{
 "cells": [
  {
   "cell_type": "markdown",
   "metadata": {},
   "source": [
    "# Experiments from Welling et al. paper.\n",
    "###Bayesian Learning via Stochastic Gradient Langevin Dynamics\n",
    "---\n",
    "** Simple Demonstration **\n",
    "\n",
    "$\\theta_1 \\sim N(0,\\sigma_{1}^2)$ ; $\\theta_2 \\sim N(0,\\sigma_{2}^2)$ <br>\n",
    "$x_i \\sim \\frac{1}{2}N(\\theta_1,\\sigma_{x}^2) + \\frac{1}{2}N(\\theta_1 + \\theta_2,\\sigma_{x}^2)$"
   ]
  },
  {
   "cell_type": "code",
   "execution_count": 10,
   "metadata": {},
   "outputs": [],
   "source": [
    "import numpy as np\n",
    "import matplotlib.pyplot as plt"
   ]
  },
  {
   "cell_type": "code",
   "execution_count": 22,
   "metadata": {},
   "outputs": [],
   "source": [
    "# Some parameters\n",
    "data_size = 100000\n",
    "\n",
    "var1 = 10; var2 = 1; varx = 2\n",
    "theta1=np.random.normal(0,np.sqrt(var1),data_size)\n",
    "theta2=np.random.normal(0,np.sqrt(var2),data_size)\n",
    "\n",
    "x = 0.5*np.random.normal(theta1,np.sqrt(varx),data_size) + 0.5*np.random.normal(theta1+theta2,np.sqrt(varx),data_size)"
   ]
  },
  {
   "cell_type": "code",
   "execution_count": 25,
   "metadata": {},
   "outputs": [
    {
     "name": "stdout",
     "output_type": "stream",
     "text": [
      "100000\n"
     ]
    }
   ],
   "source": [
    "print(len(x))"
   ]
  },
  {
   "cell_type": "code",
   "execution_count": 24,
   "metadata": {},
   "outputs": [
    {
     "data": {
      "image/png": "[encoded data removed]",
      "text/plain": [
       "<Figure size 432x288 with 1 Axes>"
      ]
     },
     "metadata": {},
     "output_type": "display_data"
    }
   ],
   "source": [
    "histogram,bins = np.histogram(x,bins=50,range=[-7,7], density=True)\n",
    "midx = (bins[0:-1]+bins[1:])/2\n",
    "\n",
    "plt.plot(midx,histogram)\n",
    "\n",
    "plt.title('Distribution of $x$')\n",
    "plt.xlabel('$x$')\n",
    "plt.xlabel('Density')\n",
    "plt.show()"
   ]
  },
  {
   "cell_type": "markdown",
   "metadata": {},
   "source": [
    "#### Implementation of Stochatic Gradient Descent\n",
    "I am applying the stochastic gradient descent based on this article:\n",
    "https://www.pyimagesearch.com/2016/10/17/stochastic-gradient-descent-sgd-with-python/"
   ]
  },
  {
   "cell_type": "code",
   "execution_count": 28,
   "metadata": {},
   "outputs": [],
   "source": [
    "def sigmoid_activation(x):\n",
    "    '''compute and return the sigmoid activation value for a\n",
    "    given input value'''\n",
    "    return 1.0 / (1 + np.exp(-x))\n",
    " \n",
    "def next_batch(X, y, batchSize):\n",
    "    '''loop over our dataset `X` in mini-batches of size `batchSize`\n",
    "    with labels (classification) y'''\n",
    "    for i in np.arange(0, X.shape[0], batchSize):\n",
    "        # yield a tuple of the current batched data and labels\n",
    "        yield (X[i:i + batchSize], y[i:i + batchSize])\n",
    "    "
   ]
  },
  {
   "cell_type": "code",
   "execution_count": null,
   "metadata": {},
   "outputs": [],
   "source": [
    "# loop over the desired number of epochs\n",
    "for epoch in np.arange(0, args[\"epochs\"]):\n",
    "\t# initialize the total loss for the epoch\n",
    "\tepochLoss = []\n",
    " \n",
    "\t# loop over our data in batches\n",
    "\tfor (batchX, batchY) in next_batch(X, y, args[\"batch_size\"]):\n",
    "\t\t# take the dot product between our current batch of\n",
    "\t\t# features and weight matrix `W`, then pass this value\n",
    "\t\t# through the sigmoid activation function\n",
    "\t\tpreds = sigmoid_activation(batchX.dot(W))\n",
    " \n",
    "\t\t# now that we have our predictions, we need to determine\n",
    "\t\t# our `error`, which is the difference between our predictions\n",
    "\t\t# and the true values\n",
    "\t\terror = preds - batchY\n",
    " \n",
    "\t\t# given our `error`, we can compute the total loss value on\n",
    "\t\t# the batch as the sum of squared loss\n",
    "\t\tloss = np.sum(error ** 2)\n",
    "\t\tepochLoss.append(loss)\n",
    " \n",
    "\t\t# the gradient update is therefore the dot product between\n",
    "\t\t# the transpose of our current batch and the error on the\n",
    "\t\t# # batch\n",
    "\t\tgradient = batchX.T.dot(error) / batchX.shape[0]\n",
    " \n",
    "\t\t# use the gradient computed on the current batch to take\n",
    "\t\t# a \"step\" in the correct direction\n",
    "\t\tW += -args[\"alpha\"] * gradient\n",
    " \n",
    "\t# update our loss history list by taking the average loss\n",
    "\t# across all batches\n",
    "\tlossHistory.append(np.average(epochLoss))"
   ]
  }
 ],
 "metadata": {
  "kernelspec": {
   "display_name": "Python 3",
   "language": "python",
   "name": "python3"
  },
  "language_info": {
   "codemirror_mode": {
    "name": "ipython",
    "version": 3
   },
   "file_extension": ".py",
   "mimetype": "text/x-python",
   "name": "python",
   "nbconvert_exporter": "python",
   "pygments_lexer": "ipython3",
   "version": "3.6.5"
  }
 },
 "nbformat": 4,
 "nbformat_minor": 2
}
