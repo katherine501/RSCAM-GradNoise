{
 "cells": [
  {
   "cell_type": "code",
   "execution_count": 40,
   "metadata": {},
   "outputs": [],
   "source": [
    "import numpy as np\n",
    "from functools import partial\n",
    "import matplotlib.pyplot as plt \n",
    "import sympy as sp"
   ]
  },
  {
   "cell_type": "code",
   "execution_count": 41,
   "metadata": {},
   "outputs": [
    {
     "name": "stdout",
     "output_type": "stream",
     "text": [
      "Length of data: 30\n",
      "Data:\n",
      "[13.27597167 15.08565281 13.41061844 11.5510474  10.63232069 13.76932811\n",
      " 10.31644803 14.55388057 12.57937117 14.13647951 15.37354413  9.96525246\n",
      " 12.66541964 11.33164599 12.14113179 11.57753389 15.86128067 10.23999543\n",
      " 16.36971379 13.96021609 17.27321719 12.23476479 17.96792692 13.92888826\n",
      " 10.64602864 16.45922776 15.56009798 13.02118014 16.50556431 14.08484862]\n"
     ]
    }
   ],
   "source": [
    "Y=np.load('tomatoes.npy') # Make sure you downloaded this file from Learn!\n",
    "print('Length of data: ' + str(len(Y)))\n",
    "print('Data:')\n",
    "print(Y)"
   ]
  },
  {
   "cell_type": "code",
   "execution_count": null,
   "metadata": {},
   "outputs": [],
   "source": [
    "def run_simulation_y( q0,p0, Nsteps, h, gamma, step_function, force_function, y):\n",
    "    \n",
    "    q_traj = [np.copy(q0)] \n",
    "    p_traj = [np.copy(p0)]\n",
    "    t_traj = [0]\n",
    "\n",
    "    q = np.copy(q0) \n",
    "    p = np.copy(p0)\n",
    "    t = 0 \n",
    "\n",
    "    for n in range(Nsteps):\n",
    "        q,p = step_function(q, p, h, gamma, force_function,y)\n",
    "        t = t + h \n",
    "\n",
    "        q_traj += [q] \n",
    "        p_traj += [p]   \n",
    "        t_traj += [t] \n",
    "\n",
    "    q_traj = np.array(q_traj) \n",
    "    p_traj = np.array(p_traj) \n",
    "    t_traj = np.array(t_traj) \n",
    "\n",
    "    return q_traj, p_traj, t_traj"
   ]
  },
  {
   "cell_type": "code",
   "execution_count": 50,
   "metadata": {},
   "outputs": [
    {
     "data": {
      "text/plain": [
       "0.137963895654848"
      ]
     },
     "execution_count": 50,
     "metadata": {},
     "output_type": "execute_result"
    }
   ],
   "source": [
    "def prior(q):\n",
    "    m1,m2,m3 = q \n",
    "    return sp.exp(-((13.5-m1)**2)/32)*sp.exp(-((13.5-m2)**2)/32)*sp.exp(-((13.5-m3)**2)/32)\n",
    "def likelihood(q,y):\n",
    "    m1,m2,m3 = q\n",
    "    return sp.log(np.exp(-((y-m1)**2)/2)+sp.exp(-((y-m2)**2)/2)+sp.exp(-((y-m3)**2)/2))\n",
    "\n",
    "\n",
    "q = [m1,m2,m3]\n",
    "m1,m2,m3 = sp.symbols('m1 m2 m3',real=True)\n",
    "dU_dm1 =sp.diff(prior(q),m1)\n",
    "dU_dm1.subs(m1,10).subs(m2,13).subs(m3,15)"
   ]
  },
  {
   "cell_type": "code",
   "execution_count": null,
   "metadata": {},
   "outputs": [],
   "source": []
  },
  {
   "cell_type": "code",
   "execution_count": null,
   "metadata": {},
   "outputs": [],
   "source": [
    "def gradient(q,y):\n",
    "    m1,m2,m3 = q\n",
    "    \n",
    "    # constant number in the likelihood part of all derivatives\n",
    "    denom = np.exp(-((y-m1)**2)/2)+np.exp(-((y-m2)**2)/2)+np.exp(-((y-m3)**2)/2)\n",
    "    \n",
    "    # should it be F = -dU_dq\n",
    "    dU_dm1 = (13.5-m1)/16 + sum((y-m1)*np.exp(-((y-m1)**2)/2)/denom)\n",
    "    dU_dm2 = (13.5-m2)/16 + sum((y-m2)*np.exp(-((y-m2)**2)/2)/denom)\n",
    "    dU_dm3 = (13.5-m3)/16 + sum((y-m3)*np.exp(-((y-m3)**2)/2)/denom)\n",
    "    \n",
    "    dU_dq = np.array([dU_dm1,dU_dm2,dU_dm3])\n",
    "    return dU_dq"
   ]
  }
 ],
 "metadata": {
  "kernelspec": {
   "display_name": "Python 3",
   "language": "python",
   "name": "python3"
  },
  "language_info": {
   "codemirror_mode": {
    "name": "ipython",
    "version": 3
   },
   "file_extension": ".py",
   "mimetype": "text/x-python",
   "name": "python",
   "nbconvert_exporter": "python",
   "pygments_lexer": "ipython3",
   "version": "3.6.5"
  }
 },
 "nbformat": 4,
 "nbformat_minor": 2
}
