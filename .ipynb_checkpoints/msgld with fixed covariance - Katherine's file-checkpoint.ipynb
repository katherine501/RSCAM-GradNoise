{
 "cells": [
  {
   "cell_type": "code",
   "execution_count": 1,
   "metadata": {},
   "outputs": [],
   "source": [
    "import numpy as np\n",
    "import matplotlib.pyplot as plt"
   ]
  },
  {
   "cell_type": "code",
   "execution_count": 2,
   "metadata": {},
   "outputs": [
    {
     "name": "stdout",
     "output_type": "stream",
     "text": [
      "Length of data: 30\n",
      "Data:\n",
      "[13.27597167 15.08565281 13.41061844 11.5510474  10.63232069 13.76932811\n",
      " 10.31644803 14.55388057 12.57937117 14.13647951 15.37354413  9.96525246\n",
      " 12.66541964 11.33164599 12.14113179 11.57753389 15.86128067 10.23999543\n",
      " 16.36971379 13.96021609 17.27321719 12.23476479 17.96792692 13.92888826\n",
      " 10.64602864 16.45922776 15.56009798 13.02118014 16.50556431 14.08484862]\n"
     ]
    }
   ],
   "source": [
    "Y=np.load('tomatoes.npy') \n",
    "print('Length of data: ' + str(len(Y)))\n",
    "print('Data:')\n",
    "print(Y)"
   ]
  },
  {
   "cell_type": "code",
   "execution_count": null,
   "metadata": {},
   "outputs": [],
   "source": [
    "def get_minibatch(y,n):\n",
    "        # x must be an array\\n\",\n",
    "       np.random.shuffle(y)\n",
    "       batch = y[0:n-1]\n",
    "        y = y\n",
    "    return batch, y\n",
    "   \n"
   ]
  },
  {
   "cell_type": "code",
   "execution_count": 3,
   "metadata": {},
   "outputs": [],
   "source": [
    "def mSGLD(q,h,force,y,N,batch_size):# n is batch size\n",
    "    R = np.random.normal(0,1,len(q))\n",
    "    cov_esti=(N**2/batch_size)*((N-batch_size)/(N-1))*np.cov(Y)\n",
    "    #cov_U=np.mean((0.5*stochastic_force(q,y,N)-np.mean(0.5*stochastic_force(q,y,N)))*(0.5*stochastic_force(q,y,N)-np.mean(0.5*stochastic_force(q,y,N))))\n",
    "    q = q + (h/2) * stochastic_force(q,y,N) + np.sqrt(h-h**2*cov_esti/4)*R#(np.identity(3)-0.5*h*cov_U)*R\n",
    "    return q\n",
    "    "
   ]
  },
  {
   "cell_type": "code",
   "execution_count": 4,
   "metadata": {},
   "outputs": [],
   "source": [
    "def stochastic_force(q,y,batch_scaling):\n",
    "    m1,m2,m3 = q\n",
    "    # constant number in the likelihood part of all derivatives\n",
    "    denom = np.exp(-((y-m1)**2)/2)+np.exp(-((y-m2)**2)/2)+np.exp(-((y-m3)**2)/2)\n",
    "    \n",
    "    dU_dm1 = (13.5-m1)/16 + batch_scaling*sum((y-m1)*np.exp(-((y-m1)**2)/2)/denom)\n",
    "    dU_dm2 = (13.5-m2)/16 + batch_scaling*sum((y-m2)*np.exp(-((y-m2)**2)/2)/denom)\n",
    "    dU_dm3 = (13.5-m3)/16 + batch_scaling*sum((y-m3)*np.exp(-((y-m3)**2)/2)/denom)\n",
    "    \n",
    "    dU_dq = np.array([dU_dm1,dU_dm2,dU_dm3])\n",
    "    return dU_dq"
   ]
  },
  {
   "cell_type": "code",
   "execution_count": 5,
   "metadata": {},
   "outputs": [],
   "source": [
    "def run_simulation_mSGLD( q0, Nsteps, h, step_function, force_function, y, batch_size):\n",
    "    \n",
    "    q_traj = [np.copy(q0)] \n",
    "    t_traj = [0]\n",
    "\n",
    "    q = np.copy(q0) \n",
    "    t = 0 \n",
    "    N = len(y)\n",
    "    batch_scaling = N/batch_size\n",
    "    \n",
    "    for n in range(Nsteps):\n",
    "        y_batch, y = get_minibatch(y,batch_size)\n",
    "        q = step_function(q, h, force_function,y_batch,batch_scaling,)\n",
    "        t = t + h \n",
    "        \n",
    "\n",
    "        q_traj += [q] \n",
    "        t_traj += [t] \n",
    "\n",
    "    q_traj = np.array(q_traj) \n",
    "    t_traj = np.array(t_traj) \n",
    "\n",
    "    return q_traj, t_traj"
   ]
  },
  {
   "cell_type": "code",
   "execution_count": 6,
   "metadata": {},
   "outputs": [],
   "source": [
    "bat=20"
   ]
  },
  {
   "cell_type": "code",
   "execution_count": 7,
   "metadata": {},
   "outputs": [
    {
     "ename": "NameError",
     "evalue": "name 'get_minibatch' is not defined",
     "output_type": "error",
     "traceback": [
      "\u001b[0;31m---------------------------------------------------------------------------\u001b[0m",
      "\u001b[0;31mNameError\u001b[0m                                 Traceback (most recent call last)",
      "\u001b[0;32m<ipython-input-7-534779327c6f>\u001b[0m in \u001b[0;36m<module>\u001b[0;34m\u001b[0m\n\u001b[1;32m      6\u001b[0m \u001b[0;34m\u001b[0m\u001b[0m\n\u001b[1;32m      7\u001b[0m \u001b[0;31m# Run one long trajectory of Nsteps, using the OBABO scheme\u001b[0m\u001b[0;34m\u001b[0m\u001b[0;34m\u001b[0m\u001b[0;34m\u001b[0m\u001b[0m\n\u001b[0;32m----> 8\u001b[0;31m \u001b[0mq_mtraj\u001b[0m\u001b[0;34m,\u001b[0m \u001b[0mt_mtraj\u001b[0m \u001b[0;34m=\u001b[0m \u001b[0mrun_simulation_mSGLD\u001b[0m\u001b[0;34m(\u001b[0m\u001b[0mq0\u001b[0m\u001b[0;34m,\u001b[0m \u001b[0mNsteps\u001b[0m \u001b[0;34m,\u001b[0m \u001b[0mh\u001b[0m\u001b[0;34m,\u001b[0m \u001b[0mmSGLD\u001b[0m\u001b[0;34m,\u001b[0m \u001b[0mstochastic_force\u001b[0m\u001b[0;34m,\u001b[0m \u001b[0mY\u001b[0m\u001b[0;34m,\u001b[0m \u001b[0mbat\u001b[0m\u001b[0;34m)\u001b[0m\u001b[0;34m\u001b[0m\u001b[0;34m\u001b[0m\u001b[0m\n\u001b[0m",
      "\u001b[0;32m<ipython-input-5-24a820cb0635>\u001b[0m in \u001b[0;36mrun_simulation_mSGLD\u001b[0;34m(q0, Nsteps, h, step_function, force_function, y, batch_size)\u001b[0m\n\u001b[1;32m     10\u001b[0m \u001b[0;34m\u001b[0m\u001b[0m\n\u001b[1;32m     11\u001b[0m     \u001b[0;32mfor\u001b[0m \u001b[0mn\u001b[0m \u001b[0;32min\u001b[0m \u001b[0mrange\u001b[0m\u001b[0;34m(\u001b[0m\u001b[0mNsteps\u001b[0m\u001b[0;34m)\u001b[0m\u001b[0;34m:\u001b[0m\u001b[0;34m\u001b[0m\u001b[0;34m\u001b[0m\u001b[0m\n\u001b[0;32m---> 12\u001b[0;31m         \u001b[0my_batch\u001b[0m\u001b[0;34m,\u001b[0m \u001b[0my\u001b[0m \u001b[0;34m=\u001b[0m \u001b[0mget_minibatch\u001b[0m\u001b[0;34m(\u001b[0m\u001b[0my\u001b[0m\u001b[0;34m,\u001b[0m\u001b[0mbatch_size\u001b[0m\u001b[0;34m)\u001b[0m\u001b[0;34m\u001b[0m\u001b[0;34m\u001b[0m\u001b[0m\n\u001b[0m\u001b[1;32m     13\u001b[0m         \u001b[0mq\u001b[0m \u001b[0;34m=\u001b[0m \u001b[0mstep_function\u001b[0m\u001b[0;34m(\u001b[0m\u001b[0mq\u001b[0m\u001b[0;34m,\u001b[0m \u001b[0mh\u001b[0m\u001b[0;34m,\u001b[0m \u001b[0mforce_function\u001b[0m\u001b[0;34m,\u001b[0m\u001b[0my_batch\u001b[0m\u001b[0;34m,\u001b[0m\u001b[0mbatch_scaling\u001b[0m\u001b[0;34m,\u001b[0m\u001b[0;34m)\u001b[0m\u001b[0;34m\u001b[0m\u001b[0;34m\u001b[0m\u001b[0m\n\u001b[1;32m     14\u001b[0m         \u001b[0mt\u001b[0m \u001b[0;34m=\u001b[0m \u001b[0mt\u001b[0m \u001b[0;34m+\u001b[0m \u001b[0mh\u001b[0m\u001b[0;34m\u001b[0m\u001b[0;34m\u001b[0m\u001b[0m\n",
      "\u001b[0;31mNameError\u001b[0m: name 'get_minibatch' is not defined"
     ]
    }
   ],
   "source": [
    "#using mSGLD\n",
    "q0 = np.array([12,12,12])\n",
    "\n",
    "Nsteps = 100000\n",
    "h = 0.005\n",
    "\n",
    "# Run one long trajectory of Nsteps, using the OBABO scheme\n",
    "q_mtraj, t_mtraj = run_simulation_mSGLD(q0, Nsteps , h, mSGLD, stochastic_force, Y, bat)"
   ]
  },
  {
   "cell_type": "code",
   "execution_count": null,
   "metadata": {},
   "outputs": [],
   "source": [
    "# mSGLD\n",
    "plt.figure(figsize = (15,6))\n",
    "plt.subplot(1,2,1)\n",
    "plt.plot( t_traj, q_traj )\n",
    "plt.title('Trajectory of $q$')\n",
    "plt.ylabel('$q(t)$')\n",
    "plt.xlabel('Time $t$')\n",
    "\n",
    "histogram_m1,bins_m1 = np.histogram(q_mtraj[:,0],bins=50,range=[10,20], density=True)\n",
    "midx_m1 = (bins_m1[0:-1]+bins_m1[1:])/2\n",
    "plt.subplot(1,2,2)\n",
    "\n",
    "plt.plot(midx_m1,histogram_m1,label='$\\mu 1$')\n",
    "\n",
    "histogram_m2,bins_m2 = np.histogram(q_mtraj[:,1],bins=50,range=[10,20], density=True)\n",
    "midx_m2 = (bins_m2[0:-1]+bins_m2[1:])/2\n",
    "plt.plot(midx_m2,histogram_m2,label='$\\mu 2$')\n",
    "\n",
    "histogram_m3,bins_m3 = np.histogram(q_mtraj[:,2],bins=50,range=[10,20], density=True)\n",
    "midx_m3 = (bins_m3[0:-1]+bins_m3[1:])/2\n",
    "plt.plot(midx_m3,histogram_m3,label='$\\mu 3$')\n",
    "\n",
    "plt.title('Distribution of $q$')\n",
    "plt.xlabel('$q$')\n",
    "plt.ylabel('Density')\n",
    "plt.legend()\n",
    "plt.show()"
   ]
  },
  {
   "cell_type": "code",
   "execution_count": null,
   "metadata": {},
   "outputs": [],
   "source": [
    "#mSGLD\n",
    "new_q_mtraj=np.sort(q_mtraj)\n",
    "\n",
    "histogram_m1,bins_m1 = np.histogram(new_q_mtraj[:,0],bins=50,range=[7,20], density=True)\n",
    "midx_m1 = (bins_m1[0:-1]+bins_m1[1:])/2\n",
    "plt.plot(midx_m1,histogram_m1,label='$\\mu 1$')\n",
    "\n",
    "histogram_m2,bins_m2 = np.histogram(new_q_mtraj[:,1],bins=50,range=[7,20], density=True)\n",
    "midx_m2 = (bins_m2[0:-1]+bins_m2[1:])/2\n",
    "plt.plot(midx_m2,histogram_m2,label='$\\mu 2$')\n",
    "\n",
    "histogram_m3,bins_m3 = np.histogram(new_q_mtraj[:,2],bins=50,range=[7,20], density=True)\n",
    "midx_m3 = (bins_m3[0:-1]+bins_m3[1:])/2\n",
    "plt.plot(midx_m3,histogram_m3,label='$\\mu 3$')\n",
    "\n",
    "plt.title('Distribution of $q$')\n",
    "plt.xlabel('$q$')\n",
    "plt.ylabel('Density')\n",
    "plt.legend()\n",
    "\n",
    "print('Mean 1:',np.mean(new_q_mtraj[:,0]), 'Standard Deviation:', np.std(new_q_mtraj[:,0]))\n",
    "print('Mean 2:',np.mean(new_q_mtraj[:,1]),'Standard Deviation:', np.std(new_q_mtraj[:,1]))\n",
    "print('Mean 3:',np.mean(new_q_mtraj[:,2]),'Standard Deviation:', np.std(new_q_mtraj[:,2]))"
   ]
  }
 ],
 "metadata": {
  "kernelspec": {
   "display_name": "Python 3",
   "language": "python",
   "name": "python3"
  },
  "language_info": {
   "codemirror_mode": {
    "name": "ipython",
    "version": 3
   },
   "file_extension": ".py",
   "mimetype": "text/x-python",
   "name": "python",
   "nbconvert_exporter": "python",
   "pygments_lexer": "ipython3",
   "version": "3.6.5"
  }
 },
 "nbformat": 4,
 "nbformat_minor": 2
}
