{
 "cells": [
  {
   "cell_type": "code",
   "execution_count": 2,
   "metadata": {},
   "outputs": [],
   "source": [
    "import numpy as np\n",
    "from functools import partial\n",
    "import matplotlib.pyplot as plt \n",
    "import time"
   ]
  },
  {
   "cell_type": "markdown",
   "metadata": {},
   "source": [
    "HMC\n",
    "---"
   ]
  },
  {
   "cell_type": "code",
   "execution_count": null,
   "metadata": {},
   "outputs": [],
   "source": []
  },
  {
   "cell_type": "code",
   "execution_count": 47,
   "metadata": {},
   "outputs": [],
   "source": [
    "# Big data\n",
    "\n",
    "# generate more tomatoe-like data\n",
    "N = 30\n",
    "d1 = np.random.normal(11,0.5,int(N/3))\n",
    "d2 = np.random.normal(13,0.6,int((N-int(N/3))/2))\n",
    "d3 = np.random.normal(16,0.4,N-2*int((N-int(N/3))/2))\n",
    "\n",
    "Y = np.random.choice(np.concatenate([d1,d2,d3]), N, replace=True)"
   ]
  },
  {
   "cell_type": "code",
   "execution_count": null,
   "metadata": {},
   "outputs": [],
   "source": [
    "# generate more tomatoe-like data\n",
    "N = 30\n",
    "d1 = np.random.normal(11.2115,0.5486,int(N/3))\n",
    "d2 = np.random.normal(13.5618,0.62927,int((N-int(N/3))/2))\n",
    "d3 = np.random.normal(16.115,0.5714,N-2*int((N-int(N/3))/2))\n",
    "\n",
    "BigY = np.random.choice(np.concatenate([d1,d2,d3]), N, replace=True)"
   ]
  },
  {
   "cell_type": "code",
   "execution_count": 23,
   "metadata": {},
   "outputs": [],
   "source": [
    "def force(q,y):\n",
    "    m1,m2,m3 = q  \n",
    "    \n",
    "    n = len(y)\n",
    "    p_prior = np.exp(-(13.5 - m1)**2/32)*np.exp(-(13.5 - m2)**2/32)*np.exp(-(13.5 - m3)**2/32)\n",
    "    \n",
    "    m1_vec = m1*np.ones(n)\n",
    "    m2_vec = m2*np.ones(n)\n",
    "    m3_vec = m3*np.ones(n)\n",
    "    p_hat = np.exp(-(y-m1_vec)**2/2) + np.exp(-(y-m2_vec)**2/2) + np.exp(-(y-m3_vec)**2/2)\n",
    "    \n",
    "    # Take the negative of each gradient\n",
    "    grad_m1 = -(-(1/16)*(13.5 - m1) + sum(-(y - m1_vec)*np.exp(-(y - m1_vec)**2/2)/p_hat))\n",
    "    grad_m2 = -(-(1/16)*(13.5 - m2) + sum(-(y - m2_vec)*np.exp(-(y - m2_vec)**2/2)/p_hat))\n",
    "    grad_m3 = -(-(1/16)*(13.5 - m3) + sum(-(y - m3_vec)*np.exp(-(y - m3_vec)**2/2)/p_hat))\n",
    "    \n",
    "    return grad_m1,grad_m2,grad_m3"
   ]
  },
  {
   "cell_type": "code",
   "execution_count": 24,
   "metadata": {},
   "outputs": [],
   "source": [
    "def run_simulation_with_data( q0,p0, Nsteps, h, gamma, step_function, force_function, Y):\n",
    "    \n",
    "    q_traj = [np.copy(q0)] \n",
    "    p_traj = [np.copy(p0)]\n",
    "    t_traj = [0]\n",
    "\n",
    "    q = np.copy(q0) \n",
    "    p = np.copy(p0)\n",
    "    t = 0 \n",
    "\n",
    "    for n in range(Nsteps):\n",
    "        q,p = step_function(q, h, Y)\n",
    "        t = t + h \n",
    "\n",
    "        q_traj += [q] \n",
    "        p_traj += [p]   \n",
    "        t_traj += [t] \n",
    "\n",
    "    q_traj = np.array(q_traj) \n",
    "    p_traj = np.array(p_traj) \n",
    "    t_traj = np.array(t_traj) \n",
    "\n",
    "    return q_traj, p_traj, t_traj\n",
    "\n",
    "def U(q,y):\n",
    "    m1,m2,m3 = q \n",
    "    \n",
    "    n = len(y)\n",
    "    p_prior = np.exp(-(13.5-m1)**2/32)*np.exp(-(13.5 - m2)**2/32)*np.exp(-(13.5 - m3)**2/32)\n",
    "    log_prior = np.log(p_prior)\n",
    "    m1_vec = m1*np.ones(n)\n",
    "    m2_vec = m2*np.ones(n)\n",
    "    m3_vec = m3*np.ones(n)\n",
    "    p_hat = np.exp(-(y-m1_vec)**2/2) + np.exp(-(y-m2_vec)**2/2) + np.exp(-(y-m3_vec)**2/2)\n",
    "    log_p_hat = np.log(p_hat)\n",
    "    V = -log_prior - sum(log_p_hat)\n",
    "    \n",
    "    return V"
   ]
  },
  {
   "cell_type": "code",
   "execution_count": 48,
   "metadata": {},
   "outputs": [],
   "source": [
    "def HMC_with_data(q0,h,y):\n",
    "    q = q0\n",
    "    p = np.random.randn(3)\n",
    "    current_p = p\n",
    "    \n",
    "    p = p + h*np.asarray(force(q,y))/2\n",
    "    q = q + h*p\n",
    "    p = p + h*np.asarray(force(q,y))/2\n",
    "    p = -p\n",
    "    \n",
    "    current_U = U(q0,y)\n",
    "    current_K = sum(current_p**2)/2\n",
    "    proposed_U = U(q, y)\n",
    "    proposed_K = sum(p**2)/2\n",
    "    \n",
    "    accept = -1\n",
    "    if np.random.uniform(0,1) < np.exp(current_U - proposed_U + current_K - proposed_K):\n",
    "        accept = 1\n",
    "        return q, accept      # accept\n",
    "    else:\n",
    "        accept = 0\n",
    "        return q0, accept     # reject\n",
    "    \n",
    " "
   ]
  },
  {
   "cell_type": "code",
   "execution_count": 26,
   "metadata": {},
   "outputs": [],
   "source": [
    "q0 = np.random.randn(3) + 13   # initialise q0 to be close to the mean (of tomato mass)\n",
    "p0 = np.random.randn(3)"
   ]
  },
  {
   "cell_type": "code",
   "execution_count": 60,
   "metadata": {},
   "outputs": [],
   "source": [
    "Nsteps = 100000\n",
    "h = 0.1\n",
    "\n",
    "# Run one long trajectory of Nsteps, using the ABO scheme\n",
    "q_traj, p_traj, t_traj = run_simulation_with_data(q0, p0, Nsteps , h, gamma, HMC_with_data, force, Y)\n"
   ]
  },
  {
   "cell_type": "code",
   "execution_count": 50,
   "metadata": {},
   "outputs": [
    {
     "data": {
      "image/png": "[encoded data removed]",
      "text/plain": [
       "<Figure size 432x288 with 1 Axes>"
      ]
     },
     "metadata": {},
     "output_type": "display_data"
    }
   ],
   "source": [
    "\n",
    "n = q_traj.shape[0]  # get number of time steps\n",
    "q_traj_sorted = q_traj.copy()\n",
    "\n",
    "for k in range(n):\n",
    "    q_traj_sorted[k] = np.sort(q_traj[k])\n",
    "    \n",
    "hist1,bins1 = np.histogram(q_traj_sorted[:,0], bins=40,range=[9,18], density=True)\n",
    "midx1 = (bins1[0:-1]+bins1[1:])/2\n",
    "hist2,bins2 = np.histogram(q_traj_sorted[:,1], bins=40,range=[9,18], density=True)\n",
    "midx2 = (bins2[0:-1]+bins2[1:])/2\n",
    "hist3,bins3 = np.histogram(q_traj_sorted[:,2], bins=40,range=[9,18], density=True)\n",
    "midx3 = (bins3[0:-1]+bins3[1:])/2\n",
    "plt.plot(midx1,hist1,label='$\\mu_A$')\n",
    "plt.plot(midx2,hist2,label='$\\mu_A$')\n",
    "plt.plot(midx3,hist3,label='$\\mu_A$')\n",
    "\n",
    "plt.title('Histograms of distributions of $q = [\\mu_A, \\mu_B, \\mu_C]$ after sorted')\n",
    "plt.xlabel('Mass (g)')\n",
    "plt.ylabel('Frequency')\n",
    "plt.legend()\n",
    "plt.show()"
   ]
  },
  {
   "cell_type": "code",
   "execution_count": 52,
   "metadata": {},
   "outputs": [
    {
     "name": "stdout",
     "output_type": "stream",
     "text": [
      "0.39608553554811715\n",
      "0.5114694401261141\n",
      "0.5866725565105471\n"
     ]
    }
   ],
   "source": [
    "print(np.std(q_traj_sorted[:,0]))\n",
    "print(np.std(q_traj_sorted[:,1]))\n",
    "print(np.std(q_traj_sorted[:,2]))"
   ]
  },
  {
   "cell_type": "markdown",
   "metadata": {},
   "source": [
    "SGHMC\n",
    "---"
   ]
  },
  {
   "cell_type": "code",
   "execution_count": 18,
   "metadata": {},
   "outputs": [],
   "source": [
    "# add in covariance term\n",
    "\n",
    "def get_minibatch_with_cov(y,n):\n",
    "    # x must be an array\n",
    "    np.random.shuffle(y)\n",
    "    batch = y[0:n]\n",
    "    y = y[n:]\n",
    "    return batch, y\n",
    "    \n",
    "\n",
    "# Minibatch size: n\n",
    "\n",
    "\n",
    "def likelihood_grad(y_batch,q):\n",
    "    m1,m2,m3 = q \n",
    "    batch_length = len(y_batch)\n",
    "    m1_vec = m1*np.ones(batch_length)\n",
    "    m2_vec = m2*np.ones(batch_length)\n",
    "    m3_vec = m3*np.ones(batch_length)\n",
    "    p_hat = np.exp(-(y_batch-m1_vec)**2/2) + np.exp(-(y_batch-m2_vec)**2/2) + np.exp(-(y_batch-m3_vec)**2/2)\n",
    "#     if (np.mean(p_hat < .01)):\n",
    "#         print(p_hat)\n",
    "#         print('masses:', m1,m2,m3)\n",
    "        \n",
    "    grad1 = -(y_batch - m1_vec)*np.exp(-(y_batch - m1_vec)**2/2)/p_hat\n",
    "    grad2 = -(y_batch - m2_vec)*np.exp(-(y_batch - m2_vec)**2/2)/p_hat\n",
    "    grad3 = -(y_batch - m3_vec)*np.exp(-(y_batch - m3_vec)**2/2)/p_hat\n",
    "        \n",
    "    grad = np.array([grad1,grad2,grad3])\n",
    "        \n",
    "    return grad\n",
    "\n",
    "\n",
    "def force_noise_with_cov(q,y_batch,batch_scaling):\n",
    "    n = len(y_batch)\n",
    "    m1,m2,m3 = q  \n",
    "    p_prior = np.exp(-(13.5 - m1)**2/32)*np.exp(-(13.5 - m2)**2/32)*np.exp(-(13.5 - m3)**2/32)\n",
    "    \n",
    "    \n",
    "    grad_prior = np.array([[-(1/16)*(13.5 - m1)], [-(1/16)*(13.5 - m2)], [-(1/16)*(13.5 - m3)]])\n",
    "    \n",
    "    \n",
    "    # Take the negative of each gradient\n",
    "    grad_m1 = -(grad_prior[0] + batch_scaling*sum(likelihood_grad(y_batch,q)[0]))  \n",
    "    grad_m2 = -(grad_prior[1] + batch_scaling*sum(likelihood_grad(y_batch,q)[1]))\n",
    "    grad_m3 = -(grad_prior[2] + batch_scaling*sum(likelihood_grad(y_batch,q)[2]))\n",
    "    \n",
    "    s_ti = np.zeros([3,n])\n",
    "    for i in range(n):\n",
    "        s = (1/n)*grad_prior + likelihood_grad([y_batch[i]],q)\n",
    "        s_ti[:,i] = s[:,0]\n",
    "         \n",
    "    B_hat = batch_scaling**2 * np.cov(s_ti)   # covariance of the scores s_ti to estimate covariance matrix\n",
    "    \n",
    "    grad = np.array([grad_m1, grad_m2, grad_m3])\n",
    "    \n",
    "    return grad, B_hat\n"
   ]
  },
  {
   "cell_type": "code",
   "execution_count": 19,
   "metadata": {},
   "outputs": [],
   "source": [
    "\n",
    "\n",
    "def SGHMC(q0,h,y,N, batch_size):\n",
    "    # n is the size of the batch\n",
    "    batch_scaling = N/batch_size\n",
    "    q = q0\n",
    "    p = np.random.randn(3)\n",
    "    current_p = p\n",
    "    M = np.eye(3)   # preconditioning matrix set to identity. can be used to precondition sampler \n",
    "    # when we have more info about target distribution\n",
    "    (y_batch, y_updated) = get_minibatch_with_cov(y,batch_size)\n",
    "    grad, B_hat = force_noise_with_cov(q,y_batch, batch_scaling)\n",
    "    # for now set C=B_hat and B=zeros(3)\n",
    "    C = .5*h*B_hat\n",
    "    B = np.zeros([3,3])\n",
    "    #added_noise = np.random.multivariate_normal(np.zeros(3), 2*C*h, 1)\n",
    "    \n",
    "    \n",
    "    p = p + h*np.matrix.flatten(grad) - h*C.dot(p) # + (2*h*C).dot(np.random.randn(3)) optional\n",
    "    q = q + h*p\n",
    "    \n",
    "    \n",
    "    return q, y_updated"
   ]
  },
  {
   "cell_type": "code",
   "execution_count": 20,
   "metadata": {},
   "outputs": [],
   "source": [
    "def run_simulation_sghmc( q0,p0, Nsteps, h, step_function, Y, batch_size):\n",
    "    num_scans = len(Y)/batch_size - 1\n",
    "    print('Num scans', num_scans)\n",
    "    q_traj = [np.copy(q0)] \n",
    "    p_traj = [np.copy(p0)]\n",
    "    t_traj = [0]\n",
    "\n",
    "    q = np.copy(q0) \n",
    "    p = np.copy(p0)\n",
    "    t = 0 \n",
    "    y_updated = Y\n",
    "    N = len(Y)\n",
    "    scans = num_scans\n",
    "    for n in range(Nsteps):\n",
    "        if scans == 0:\n",
    "            scans = num_scans\n",
    "            y_updated = Y\n",
    "        q,y_updated = step_function(q, h, y_updated, N, batch_size)\n",
    "        t = t + h \n",
    "\n",
    "        q_traj += [q] \n",
    "        p_traj += [p]   \n",
    "        t_traj += [t]\n",
    "        scans = scans - 1\n",
    "\n",
    "    q_traj = np.array(q_traj) \n",
    "    p_traj = np.array(p_traj) \n",
    "    t_traj = np.array(t_traj) \n",
    "\n",
    "    return q_traj, p_traj, t_traj"
   ]
  },
  {
   "cell_type": "code",
   "execution_count": 57,
   "metadata": {},
   "outputs": [
    {
     "name": "stdout",
     "output_type": "stream",
     "text": [
      "Num scans 9.0\n",
      "78.76340999999996\n"
     ]
    }
   ],
   "source": [
    "# RUN SGHMC (takes a while with covariance estimation)\n",
    "\n",
    "Nsteps = 100000\n",
    "h = 0.2\n",
    "\n",
    "tic = time.clock()\n",
    "# Run one long trajectory of Nsteps, using the ABO scheme\n",
    "q_traj_sghmc, p_traj, t_traj = run_simulation_sghmc(q0, p0, Nsteps , h, SGHMC, Y, 3)\n",
    "toc = time.clock()\n",
    "print(toc - tic)"
   ]
  },
  {
   "cell_type": "code",
   "execution_count": 54,
   "metadata": {},
   "outputs": [
    {
     "data": {
      "image/png": "[encoded data removed]",
      "text/plain": [
       "<Figure size 432x288 with 1 Axes>"
      ]
     },
     "metadata": {},
     "output_type": "display_data"
    }
   ],
   "source": [
    "hist1,bins1 = np.histogram(q_traj_sghmc[:,0], bins=40,range=[9,18], density=True)\n",
    "midx1 = (bins1[0:-1]+bins1[1:])/2\n",
    "hist2,bins2 = np.histogram(q_traj_sghmc[:,1], bins=40,range=[9,18], density=True)\n",
    "midx2 = (bins2[0:-1]+bins2[1:])/2\n",
    "hist3,bins3 = np.histogram(q_traj_sghmc[:,2], bins=40,range=[9,18], density=True)\n",
    "midx3 = (bins3[0:-1]+bins3[1:])/2\n",
    "plt.plot(midx1,hist1,label='$\\mu_A$')\n",
    "plt.plot(midx2,hist2,label='$\\mu_A$')\n",
    "plt.plot(midx3,hist3,label='$\\mu_A$')\n",
    "\n",
    "plt.title('Histograms of distributions of $q = [\\mu_A, \\mu_B, \\mu_C]$')\n",
    "plt.xlabel('Mass (g)')\n",
    "plt.ylabel('Frequency')\n",
    "plt.legend()\n",
    "plt.show()"
   ]
  },
  {
   "cell_type": "code",
   "execution_count": 58,
   "metadata": {},
   "outputs": [
    {
     "data": {
      "image/png": "[encoded data removed]",
      "text/plain": [
       "<Figure size 1080x720 with 1 Axes>"
      ]
     },
     "metadata": {},
     "output_type": "display_data"
    },
    {
     "name": "stdout",
     "output_type": "stream",
     "text": [
      "0.40175931050342867\n",
      "0.46860611711269157\n",
      "0.5813488860890393\n",
      "original hmc\n",
      "0.39608553554811715\n",
      "0.5114694401261141\n",
      "0.5866725565105471\n",
      "11.490584121683607\n",
      "12.706411921359548\n",
      "15.062644886400763\n",
      "original hmc\n",
      "11.476835756478218\n",
      "12.63985193153274\n",
      "14.886499518054903\n"
     ]
    }
   ],
   "source": [
    "n = q_traj_sghmc.shape[0]  # get number of time steps\n",
    "q_traj_sorted_sghmc = q_traj_sghmc.copy()\n",
    "\n",
    "for k in range(n):\n",
    "    q_traj_sorted_sghmc[k] = np.sort(q_traj_sghmc[k])\n",
    "\n",
    "plt.figure(figsize=[15,10])\n",
    "plt.hist(q_traj_sorted_sghmc[:,0], bins=15,label='$\\mu_A$', alpha=0.7)\n",
    "plt.hist(q_traj_sorted_sghmc[:,1], bins=15, label='$\\mu_B$',alpha=0.7)\n",
    "plt.hist(q_traj_sorted_sghmc[:,2], bins=15, label='$\\mu_C$',alpha=0.7)\n",
    "plt.title('SGHMC with mini-batch of size 3')\n",
    "plt.xlabel('Mass (g)')\n",
    "plt.ylabel('Frequency')\n",
    "plt.legend()\n",
    "plt.show()\n",
    "\n",
    "print(np.std(q_traj_sorted_sghmc[:,0]))\n",
    "print(np.std(q_traj_sorted_sghmc[:,1]))\n",
    "print(np.std(q_traj_sorted_sghmc[:,2]))\n",
    "print('original hmc')\n",
    "print(np.std(q_traj_sorted[:,0]))\n",
    "print(np.std(q_traj_sorted[:,1]))\n",
    "print(np.std(q_traj_sorted[:,2]))\n",
    "\n",
    "print(np.mean(q_traj_sorted_sghmc[:,0]))\n",
    "print(np.mean(q_traj_sorted_sghmc[:,1]))\n",
    "print(np.mean(q_traj_sorted_sghmc[:,2]))\n",
    "print('original hmc')\n",
    "print(np.mean(q_traj_sorted[:,0]))\n",
    "print(np.mean(q_traj_sorted[:,1]))\n",
    "print(np.mean(q_traj_sorted[:,2]))"
   ]
  },
  {
   "cell_type": "markdown",
   "metadata": {},
   "source": [
    "# Error plot for different stepsizes\n",
    "\n",
    "Error plot 1: Stepsizes compared to variance error \n",
    "\n"
   ]
  },
  {
   "cell_type": "code",
   "execution_count": null,
   "metadata": {},
   "outputs": [],
   "source": [
    "# Create vector of SGHMC errors\n",
    "\n",
    "stepsizes = [.01,.05,.1,.2]\n",
    "true_std = np.array([.5,.6,.4])\n",
    "\n",
    "Nsteps = 100000\n",
    "\n",
    "bias_stepsize = np.zeros(len(stepsizes))\n",
    "for i in range(len(stepsizes)):\n",
    "    q_traj_sghmc, p_traj, t_traj = run_simulation_sghmc(q0, p0, Nsteps , H[i], SGHMC, Y, 3)\n",
    "    q_traj_sorted_sghmc = np.sort(q_traj_sghmc)\n",
    "    calc_std = np.array([np.std(q_traj_sorted[:,0]),np.std(q_traj_sorted[:,1]),np.std(q_traj_sorted[:,2])])\n",
    "    bias_stepsize[i] = np.mean(abs(true_std - calc_std))\n",
    "    \n",
    "    \n",
    "# Test different batch sizes\n",
    "\n",
    "\n",
    "    "
   ]
  },
  {
   "cell_type": "code",
   "execution_count": null,
   "metadata": {},
   "outputs": [],
   "source": [
    "# Plot stepsize bias\n",
    "\n"
   ]
  },
  {
   "cell_type": "code",
   "execution_count": null,
   "metadata": {},
   "outputs": [],
   "source": [
    "\n",
    "\n",
    "batchsizes = [3,5,10,15,30]\n",
    "true_std = np.array([.5,.6,.4])\n",
    "\n",
    "Nsteps = 100000\n",
    "\n",
    "bias_batchsize = np.zeros(len(batchsizes))\n",
    "for i in range(len(stepsizes)):\n",
    "    q_traj_sghmc, p_traj, t_traj = run_simulation_sghmc(q0, p0, Nsteps , H[i], SGHMC, Y, 3)\n",
    "    q_traj_sorted_sghmc = np.sort(q_traj_sghmc)\n",
    "    calc_std = np.array([np.std(q_traj_sorted[:,0]),np.std(q_traj_sorted[:,1]),np.std(q_traj_sorted[:,2])])\n",
    "    bias_batchsize[i] = np.mean(abs(true_std - calc_std))"
   ]
  }
 ],
 "metadata": {
  "kernelspec": {
   "display_name": "Python 3",
   "language": "python",
   "name": "python3"
  },
  "language_info": {
   "codemirror_mode": {
    "name": "ipython",
    "version": 3
   },
   "file_extension": ".py",
   "mimetype": "text/x-python",
   "name": "python",
   "nbconvert_exporter": "python",
   "pygments_lexer": "ipython3",
   "version": "3.6.5"
  }
 },
 "nbformat": 4,
 "nbformat_minor": 2
}
