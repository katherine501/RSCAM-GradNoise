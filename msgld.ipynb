{
 "cells": [
  {
   "cell_type": "code",
   "execution_count": 1,
   "metadata": {},
   "outputs": [],
   "source": [
    "import numpy as np\n",
    "import matplotlib.pyplot as plt"
   ]
  },
  {
   "cell_type": "code",
   "execution_count": 25,
   "metadata": {},
   "outputs": [
    {
     "name": "stdout",
     "output_type": "stream",
     "text": [
      "Length of data: 30\n",
      "Data:\n",
      "30\n",
      "5.014596961396833\n",
      "4.847443729350274\n"
     ]
    }
   ],
   "source": [
    "Y=np.load('tomatoes.npy') \n",
    "print('Length of data: ' + str(len(Y)))\n",
    "print('Data:')\n",
    "print(len(Y))\n",
    "print(np.cov(Y))\n",
    "print(np.var(Y))"
   ]
  },
  {
   "cell_type": "code",
   "execution_count": 43,
   "metadata": {},
   "outputs": [
    {
     "data": {
      "text/plain": [
       "4.847443729350273"
      ]
     },
     "execution_count": 43,
     "metadata": {},
     "output_type": "execute_result"
    }
   ],
   "source": [
    "Y3 = np.array([Y,Y,Y])\n",
    "np.(Y3)"
   ]
  },
  {
   "cell_type": "code",
   "execution_count": 32,
   "metadata": {},
   "outputs": [],
   "source": [
    "def get_minibatch(y,n):\n",
    "    # x must be an array\n",
    "    np.random.shuffle(y)\n",
    "    batch = y[0:n-1]\n",
    "    y = y\n",
    "    return batch, y"
   ]
  },
  {
   "cell_type": "code",
   "execution_count": 18,
   "metadata": {},
   "outputs": [],
   "source": [
    "def SGLD(q,h,force,y,N):\n",
    "    R = np.random.normal(0,np.sqrt(h),len(q))\n",
    "    q = q + (h/2) * stochastic_force(q,y,N) + R\n",
    "    return q"
   ]
  },
  {
   "cell_type": "code",
   "execution_count": 6,
   "metadata": {},
   "outputs": [],
   "source": [
    "def mSGLD(q,h,force,y,N,batch_size):# n is batch size\n",
    "    R = np.random.normal(0,1,len(q))\n",
    "    cov_esti=(N**2/batch_size)*((N-batch_size)/(N-1))*np.cov(Y)\n",
    "    #cov_U=np.mean((0.5*stochastic_force(q,y,N)-np.mean(0.5*stochastic_force(q,y,N)))*(0.5*stochastic_force(q,y,N)-np.mean(0.5*stochastic_force(q,y,N))))\n",
    "    q = q + (h/2) * stochastic_force(q,y,N) + np.sqrt(h-h**2*cov_esti/4)*R#(np.identity(3)-0.5*h*cov_U)*R\n",
    "    return q\n",
    "    "
   ]
  },
  {
   "cell_type": "code",
   "execution_count": 7,
   "metadata": {},
   "outputs": [],
   "source": [
    "def stochastic_force(q,y,batch_scaling):\n",
    "    m1,m2,m3 = q\n",
    "    # constant number in the likelihood part of all derivatives\n",
    "    denom = np.exp(-((y-m1)**2)/2)+np.exp(-((y-m2)**2)/2)+np.exp(-((y-m3)**2)/2)\n",
    "    \n",
    "    dU_dm1 = (13.5-m1)/16 + batch_scaling*sum((y-m1)*np.exp(-((y-m1)**2)/2)/denom)\n",
    "    dU_dm2 = (13.5-m2)/16 + batch_scaling*sum((y-m2)*np.exp(-((y-m2)**2)/2)/denom)\n",
    "    dU_dm3 = (13.5-m3)/16 + batch_scaling*sum((y-m3)*np.exp(-((y-m3)**2)/2)/denom)\n",
    "    \n",
    "    dU_dq = np.array([dU_dm1,dU_dm2,dU_dm3])\n",
    "    return dU_dq"
   ]
  },
  {
   "cell_type": "code",
   "execution_count": 11,
   "metadata": {},
   "outputs": [],
   "source": [
    "def run_simulation_mSGLD( q0, Nsteps, h, step_function, force_function, y, batch_size):\n",
    "    \n",
    "    q_traj = [np.copy(q0)] \n",
    "    t_traj = [0]\n",
    "\n",
    "    q = np.copy(q0) \n",
    "    t = 0 \n",
    "    N = len(y)\n",
    "    batch_scaling = N/batch_size\n",
    "    \n",
    "    for n in range(Nsteps):\n",
    "        y_batch, y = get_minibatch(y,batch_size)\n",
    "        q = step_function(q, h, force_function,y_batch,batch_scaling,batch_size)\n",
    "        t = t + h \n",
    "        \n",
    "\n",
    "        q_traj += [q] \n",
    "        t_traj += [t] \n",
    "\n",
    "    q_traj = np.array(q_traj) \n",
    "    t_traj = np.array(t_traj) \n",
    "\n",
    "    return q_traj, t_traj"
   ]
  },
  {
   "cell_type": "code",
   "execution_count": 14,
   "metadata": {},
   "outputs": [],
   "source": [
    "# generate more tomatoe-like data\n",
    "N = 1000\n",
    "d1 = np.random.normal(11.2115,1.5,int(N/3))\n",
    "d2 = np.random.normal(13.5618,1.5,int((N-int(N/3))/2))\n",
    "d3 = np.random.normal(16.115,1.5,N-2*int((N-int(N/3))/2))\n",
    "\n",
    "BigY = np.random.choice(np.concatenate([d1,d2,d3]), N, replace=True)"
   ]
  },
  {
   "cell_type": "code",
   "execution_count": 16,
   "metadata": {},
   "outputs": [],
   "source": [
    "bat=30"
   ]
  },
  {
   "cell_type": "code",
   "execution_count": 17,
   "metadata": {},
   "outputs": [],
   "source": [
    "#using mSGLD\n",
    "q0 = np.array([12,12,12])\n",
    "\n",
    "Nsteps = 100000\n",
    "h = 0.005\n",
    "\n",
    "# Run one long trajectory of Nsteps, using the OBABO scheme\n",
    "q_mtraj, t_mtraj = run_simulation_mSGLD(q0, Nsteps , h, mSGLD, stochastic_force, BigY, bat)\n",
    "q_traj, t_traj = run_simulation_SGLD(q0, Nsteps , h, SGLD, stochastic_force, BigY, bat)"
   ]
  },
  {
   "cell_type": "code",
   "execution_count": null,
   "metadata": {},
   "outputs": [],
   "source": [
    "# mSGLD\n",
    "plt.figure(figsize = (15,6))\n",
    "plt.subplot(1,2,1)\n",
    "plt.plot( t_traj, q_traj )\n",
    "plt.title('Trajectory of $q$')\n",
    "plt.ylabel('$q(t)$')\n",
    "plt.xlabel('Time $t$')\n",
    "\n",
    "histogram_m1,bins_m1 = np.histogram(q_mtraj[:,0],bins=50,range=[10,20], density=True)\n",
    "midx_m1 = (bins_m1[0:-1]+bins_m1[1:])/2\n",
    "plt.subplot(1,2,2)\n",
    "\n",
    "plt.plot(midx_m1,histogram_m1,label='$\\mu 1$')\n",
    "\n",
    "histogram_m2,bins_m2 = np.histogram(q_mtraj[:,1],bins=50,range=[10,20], density=True)\n",
    "midx_m2 = (bins_m2[0:-1]+bins_m2[1:])/2\n",
    "plt.plot(midx_m2,histogram_m2,label='$\\mu 2$')\n",
    "\n",
    "histogram_m3,bins_m3 = np.histogram(q_mtraj[:,2],bins=50,range=[10,20], density=True)\n",
    "midx_m3 = (bins_m3[0:-1]+bins_m3[1:])/2\n",
    "plt.plot(midx_m3,histogram_m3,label='$\\mu 3$')\n",
    "\n",
    "plt.title('Distribution of $q$')\n",
    "plt.xlabel('$q$')\n",
    "plt.ylabel('Density')\n",
    "plt.legend()\n",
    "plt.show()"
   ]
  },
  {
   "cell_type": "code",
   "execution_count": null,
   "metadata": {},
   "outputs": [],
   "source": [
    "#mSGLD\n",
    "new_q_mtraj=np.sort(q_mtraj)\n",
    "\n",
    "histogram_m1,bins_m1 = np.histogram(new_q_mtraj[:,0],bins=50,range=[7,20], density=True)\n",
    "midx_m1 = (bins_m1[0:-1]+bins_m1[1:])/2\n",
    "plt.plot(midx_m1,histogram_m1,label='$\\mu 1$')\n",
    "\n",
    "histogram_m2,bins_m2 = np.histogram(new_q_mtraj[:,1],bins=50,range=[7,20], density=True)\n",
    "midx_m2 = (bins_m2[0:-1]+bins_m2[1:])/2\n",
    "plt.plot(midx_m2,histogram_m2,label='$\\mu 2$')\n",
    "\n",
    "histogram_m3,bins_m3 = np.histogram(new_q_mtraj[:,2],bins=50,range=[7,20], density=True)\n",
    "midx_m3 = (bins_m3[0:-1]+bins_m3[1:])/2\n",
    "plt.plot(midx_m3,histogram_m3,label='$\\mu 3$')\n",
    "\n",
    "plt.title('Distribution of $q$')\n",
    "plt.xlabel('$q$')\n",
    "plt.ylabel('Density')\n",
    "plt.legend()\n",
    "\n",
    "print('Mean 1:',np.mean(new_q_mtraj[:,0]), 'Standard Deviation:', np.std(new_q_mtraj[:,0]))\n",
    "print('Mean 2:',np.mean(new_q_mtraj[:,1]),'Standard Deviation:', np.std(new_q_mtraj[:,1]))\n",
    "print('Mean 3:',np.mean(new_q_mtraj[:,2]),'Standard Deviation:', np.std(new_q_mtraj[:,2]))"
   ]
  }
 ],
 "metadata": {
  "kernelspec": {
   "display_name": "Python 3",
   "language": "python",
   "name": "python3"
  },
  "language_info": {
   "codemirror_mode": {
    "name": "ipython",
    "version": 3
   },
   "file_extension": ".py",
   "mimetype": "text/x-python",
   "name": "python",
   "nbconvert_exporter": "python",
   "pygments_lexer": "ipython3",
   "version": "3.7.1"
  }
 },
 "nbformat": 4,
 "nbformat_minor": 2
}
